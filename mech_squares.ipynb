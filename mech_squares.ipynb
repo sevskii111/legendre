{
 "cells": [
  {
   "cell_type": "code",
   "execution_count": 11,
   "metadata": {},
   "outputs": [],
   "source": [
    "import numpy as np\n",
    "import matplotlib.pyplot as plt\n",
    "from ipywidgets import Text, Layout, Output, IntText\n",
    "from ipywidgets.widgets.interaction import show_inline_matplotlib_plots\n",
    "from eval import evaluate"
   ]
  },
  {
   "cell_type": "code",
   "execution_count": 12,
   "metadata": {},
   "outputs": [],
   "source": [
    "o = Output()"
   ]
  },
  {
   "cell_type": "code",
   "execution_count": 13,
   "metadata": {},
   "outputs": [],
   "source": [
    "def mech_squares(k, rhe, l, r, N):\n",
    "    h = (r - l) / (2 * N)\n",
    "    taus = [l + h * i for i in range(2 * N + 1)]\n",
    "    global_ys = []\n",
    "    global_cs = []\n",
    "    A = [h / 3] + [(4 * h / 3 if i % 2 == 0 else 2 * h / 3) for i in range(2 * N - 1)] + [h / 3]\n",
    "    for i in range(2 * N + 1):\n",
    "        cs = []\n",
    "        for j in range(2 * N + 1):\n",
    "            cs.append(-A[j] * k(taus[i], taus[j]))\n",
    "        cs[i] += 1\n",
    "        global_ys.append(rhe(taus[i]))\n",
    "        global_cs.append(cs)\n",
    "    solution = np.linalg.solve(global_cs, global_ys)\n",
    "    return solution\n",
    "\n",
    "def plot_solution(f, solution, l, r, N):\n",
    "    h = (r - l) / (2 * N)\n",
    "    x = np.linspace(l, r)\n",
    "    y = [f(_x) for _x in x]\n",
    "    plt.plot(x, y)\n",
    "    for i in range(2 * N + 1):\n",
    "        x = [l + h * i, l + h * (i + 1)]\n",
    "        y = [solution[i], solution[i]]\n",
    "        plt.plot(x, y)"
   ]
  },
  {
   "cell_type": "code",
   "execution_count": 14,
   "metadata": {},
   "outputs": [
    {
     "data": {
      "application/vnd.jupyter.widget-view+json": {
       "model_id": "5fc47e10316d451cbb64f1d96dc91c6f",
       "version_major": 2,
       "version_minor": 0
      },
      "text/plain": [
       "Text(value='1 + 6 * x * x', description='f: ', layout=Layout(height='auto', width='auto'))"
      ]
     },
     "metadata": {},
     "output_type": "display_data"
    },
    {
     "data": {
      "application/vnd.jupyter.widget-view+json": {
       "model_id": "838fe48ce1a8463f8a7111e296f82dd4",
       "version_major": 2,
       "version_minor": 0
      },
      "text/plain": [
       "Text(value='tau * t + tau * tau', description='k: ', layout=Layout(height='auto', width='auto'))"
      ]
     },
     "metadata": {},
     "output_type": "display_data"
    },
    {
     "data": {
      "application/vnd.jupyter.widget-view+json": {
       "model_id": "5fb99a7593184e148fd802ab48ddb115",
       "version_major": 2,
       "version_minor": 0
      },
      "text/plain": [
       "Text(value='1', description='rhe: ', layout=Layout(height='auto', width='auto'))"
      ]
     },
     "metadata": {},
     "output_type": "display_data"
    },
    {
     "data": {
      "application/vnd.jupyter.widget-view+json": {
       "model_id": "2b6e5a3d80d3491998a40ba0400ef5d5",
       "version_major": 2,
       "version_minor": 0
      },
      "text/plain": [
       "IntText(value=-1, description='l: ')"
      ]
     },
     "metadata": {},
     "output_type": "display_data"
    },
    {
     "data": {
      "application/vnd.jupyter.widget-view+json": {
       "model_id": "69ec22cee11b4ae9bd5549ad67f686d8",
       "version_major": 2,
       "version_minor": 0
      },
      "text/plain": [
       "IntText(value=1, description='r: ')"
      ]
     },
     "metadata": {},
     "output_type": "display_data"
    },
    {
     "data": {
      "application/vnd.jupyter.widget-view+json": {
       "model_id": "d3f99e4b1e1d4c2abd6daa5e71088910",
       "version_major": 2,
       "version_minor": 0
      },
      "text/plain": [
       "IntText(value=10, description='N: ')"
      ]
     },
     "metadata": {},
     "output_type": "display_data"
    }
   ],
   "source": [
    "f_text = Text('1 + 6 * x * x', description='f: ', layout=Layout(width='auto', height='auto'))\n",
    "k_text = Text('tau * t + tau * tau', description='k: ', layout=Layout(width='auto', height='auto'))\n",
    "rhe_text = Text('1', description='rhe: ', layout=Layout(width='auto', height='auto'))\n",
    "l_text = IntText('-1', description=\"l: \")\n",
    "r_text = IntText('1', description=\"r: \")\n",
    "N_text = IntText('10', description=\"N: \")\n",
    "def recalculate(_=None):\n",
    "        with o:\n",
    "                o.clear_output()\n",
    "                try:\n",
    "                        f = lambda x: evaluate(f_text.value, {'x': x})\n",
    "                        k = lambda tau, t: evaluate(k_text.value, {'t': t, 'tau': tau})\n",
    "                        rhe = lambda tau: evaluate(rhe_text.value, {'tau': tau})\n",
    "                        l = int(l_text.value)\n",
    "                        r = int(r_text.value)\n",
    "                        N = int(N_text.value)\n",
    "                        solution = mech_squares(k, rhe, l, r, N)\n",
    "                        plot_solution(f, solution, l, r, N)\n",
    "                        show_inline_matplotlib_plots()\n",
    "                except Exception:\n",
    "                        print('Ошибка...')\n",
    "            \n",
    "f_text.observe(recalculate, names='value')\n",
    "k_text.observe(recalculate, names='value')\n",
    "rhe_text.observe(recalculate, names='value')\n",
    "l_text.observe(recalculate, names='value')\n",
    "r_text.observe(recalculate, names='value')\n",
    "N_text.observe(recalculate, names='value')\n",
    "recalculate()\n",
    "\n",
    "display(f_text, k_text, rhe_text, l_text, r_text, N_text)\n"
   ]
  },
  {
   "cell_type": "code",
   "execution_count": 15,
   "metadata": {},
   "outputs": [
    {
     "data": {
      "application/vnd.jupyter.widget-view+json": {
       "model_id": "ce57fb2133754160ac2212f140578bbe",
       "version_major": 2,
       "version_minor": 0
      },
      "text/plain": [
       "Output(outputs=({'output_type': 'display_data', 'data': {'text/plain': '<Figure size 432x288 with 1 Axes>', 'i…"
      ]
     },
     "metadata": {},
     "output_type": "display_data"
    }
   ],
   "source": [
    "o"
   ]
  }
 ],
 "metadata": {
  "interpreter": {
   "hash": "9a451dbdcb6623e599768f7beb0b1fd9a963ecc92eb34daed52c85798a17ac1f"
  },
  "kernelspec": {
   "display_name": "Python 3.9.7 64-bit ('legendre': conda)",
   "name": "python3"
  },
  "language_info": {
   "codemirror_mode": {
    "name": "ipython",
    "version": 3
   },
   "file_extension": ".py",
   "mimetype": "text/x-python",
   "name": "python",
   "nbconvert_exporter": "python",
   "pygments_lexer": "ipython3",
   "version": "3.9.7"
  }
 },
 "nbformat": 4,
 "nbformat_minor": 4
}
