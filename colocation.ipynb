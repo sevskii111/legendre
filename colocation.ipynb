{
 "cells": [
  {
   "cell_type": "code",
   "execution_count": 5,
   "metadata": {},
   "outputs": [],
   "source": [
    "import numpy as np\n",
    "import matplotlib.pyplot as plt\n",
    "from ipywidgets import Text, Layout, Output, IntText\n",
    "from ipywidgets.widgets.interaction import show_inline_matplotlib_plots\n",
    "from eval import evaluate"
   ]
  },
  {
   "cell_type": "code",
   "execution_count": 6,
   "metadata": {},
   "outputs": [
    {
     "data": {
      "application/vnd.jupyter.widget-view+json": {
       "model_id": "8b637d50986a4178b729f5765d8c9ad0",
       "version_major": 2,
       "version_minor": 0
      },
      "text/plain": [
       "Output()"
      ]
     },
     "metadata": {},
     "output_type": "display_data"
    }
   ],
   "source": [
    "o = Output()\n",
    "o"
   ]
  },
  {
   "cell_type": "code",
   "execution_count": 7,
   "metadata": {},
   "outputs": [],
   "source": [
    "def colocation(k, rhe, l, r, N):\n",
    "    h = (r - l) / N\n",
    "    taus = [l + h / 2 + h * i for i in range(N)]\n",
    "    global_ys = []\n",
    "    global_cs = []\n",
    "    for i in range(N):\n",
    "        cs = []\n",
    "        for j in range(0, N):\n",
    "            b = int(i == j)\n",
    "            cs.append(b - h * k(taus[i], taus[j]))\n",
    "        global_ys.append(rhe(taus[i]))\n",
    "        global_cs.append(cs)\n",
    "    solution = np.linalg.solve(global_cs, global_ys)\n",
    "    return solution\n",
    "\n",
    "def plot_solution(f, solution, l, r, N):\n",
    "    h = (r - l) / N\n",
    "    x = np.linspace(l, r)\n",
    "    y = [f(_x) for _x in x]\n",
    "    plt.plot(x, y)\n",
    "    for i in range(N):\n",
    "        x = [l + h * i, l + h * (i + 1)]\n",
    "        y = [solution[i], solution[i]]\n",
    "        plt.plot(x, y)"
   ]
  },
  {
   "cell_type": "code",
   "execution_count": 8,
   "metadata": {},
   "outputs": [
    {
     "data": {
      "image/png": "[encoded data removed]",
      "text/plain": [
       "<Figure size 432x288 with 1 Axes>"
      ]
     },
     "metadata": {
      "needs_background": "light"
     },
     "output_type": "display_data"
    },
    {
     "data": {
      "application/vnd.jupyter.widget-view+json": {
       "model_id": "38ffde923c2548828c00f7193b0a3e5a",
       "version_major": 2,
       "version_minor": 0
      },
      "text/plain": [
       "Text(value='1 + 6 * x * x', description='f: ', layout=Layout(height='auto', width='auto'))"
      ]
     },
     "metadata": {},
     "output_type": "display_data"
    },
    {
     "data": {
      "application/vnd.jupyter.widget-view+json": {
       "model_id": "a6f0e008e80246e8ab3b19c3cce76494",
       "version_major": 2,
       "version_minor": 0
      },
      "text/plain": [
       "Text(value='tau * t + tau * tau', description='k: ', layout=Layout(height='auto', width='auto'))"
      ]
     },
     "metadata": {},
     "output_type": "display_data"
    },
    {
     "data": {
      "application/vnd.jupyter.widget-view+json": {
       "model_id": "e43f42f07fd3437a8c71dc197ab38299",
       "version_major": 2,
       "version_minor": 0
      },
      "text/plain": [
       "Text(value='1', description='rhe: ', layout=Layout(height='auto', width='auto'))"
      ]
     },
     "metadata": {},
     "output_type": "display_data"
    },
    {
     "data": {
      "application/vnd.jupyter.widget-view+json": {
       "model_id": "9060bcb1e10e4b8795a893aca98ae49b",
       "version_major": 2,
       "version_minor": 0
      },
      "text/plain": [
       "IntText(value=-1, description='l: ')"
      ]
     },
     "metadata": {},
     "output_type": "display_data"
    },
    {
     "data": {
      "application/vnd.jupyter.widget-view+json": {
       "model_id": "4c117f15a7374b968a01da591b5490c4",
       "version_major": 2,
       "version_minor": 0
      },
      "text/plain": [
       "IntText(value=1, description='r: ')"
      ]
     },
     "metadata": {},
     "output_type": "display_data"
    },
    {
     "data": {
      "application/vnd.jupyter.widget-view+json": {
       "model_id": "0c4df6586afe466dbe8d2aa43a5842cc",
       "version_major": 2,
       "version_minor": 0
      },
      "text/plain": [
       "IntText(value=10, description='N: ')"
      ]
     },
     "metadata": {},
     "output_type": "display_data"
    }
   ],
   "source": [
    "f_text = Text('1 + 6 * x * x', description='f: ', layout=Layout(width='auto', height='auto'))\n",
    "k_text = Text('tau * t + tau * tau', description='k: ', layout=Layout(width='auto', height='auto'))\n",
    "rhe_text = Text('1', description='rhe: ', layout=Layout(width='auto', height='auto'))\n",
    "l_text = IntText('-1', description=\"l: \")\n",
    "r_text = IntText('1', description=\"r: \")\n",
    "N_text = IntText('10', description=\"N: \")\n",
    "def recalculate(_=None):\n",
    "        with o:\n",
    "                o.clear_output()\n",
    "                try:\n",
    "                        f = lambda x: evaluate(f_text.value, {'x': x})\n",
    "                        k = lambda tau, t: evaluate(k_text.value, {'t': t, 'tau': tau})\n",
    "                        rhe = lambda tau: evaluate(rhe_text.value, {'tau': tau})\n",
    "                        l = int(l_text.value)\n",
    "                        r = int(r_text.value)\n",
    "                        N = int(N_text.value)\n",
    "                        solution = colocation(k, rhe, l, r, N)\n",
    "                        plot_solution(f, solution, l, r, N)\n",
    "                        show_inline_matplotlib_plots()\n",
    "                except Exception:\n",
    "                        print('Ошибка...')\n",
    "            \n",
    "f_text.observe(recalculate, names='value')\n",
    "k_text.observe(recalculate, names='value')\n",
    "rhe_text.observe(recalculate, names='value')\n",
    "l_text.observe(recalculate, names='value')\n",
    "r_text.observe(recalculate, names='value')\n",
    "N_text.observe(recalculate, names='value')\n",
    "recalculate()\n",
    "\n",
    "display(f_text, k_text, rhe_text, l_text, r_text, N_text)\n"
   ]
  }
 ],
 "metadata": {
  "interpreter": {
   "hash": "9a451dbdcb6623e599768f7beb0b1fd9a963ecc92eb34daed52c85798a17ac1f"
  },
  "kernelspec": {
   "display_name": "Python 3.9.7 64-bit ('legendre': conda)",
   "name": "python3"
  },
  "language_info": {
   "codemirror_mode": {
    "name": "ipython",
    "version": 3
   },
   "file_extension": ".py",
   "mimetype": "text/x-python",
   "name": "python",
   "nbconvert_exporter": "python",
   "pygments_lexer": "ipython3",
   "version": "3.9.7"
  }
 },
 "nbformat": 4,
 "nbformat_minor": 4
}
