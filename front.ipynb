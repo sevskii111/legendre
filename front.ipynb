{
 "cells": [
  {
   "cell_type": "code",
   "execution_count": 1,
   "metadata": {},
   "outputs": [],
   "source": [
    "import numpy as np\n",
    "import matplotlib.pyplot as plt\n",
    "from eval import evaluate\n",
    "from solver import solve\n",
    "from ipywidgets import Text, IntSlider, FloatText, TwoByTwoLayout, Layout, Output"
   ]
  },
  {
   "cell_type": "code",
   "execution_count": 2,
   "metadata": {},
   "outputs": [],
   "source": [
    "expression_text = Text('cos(x)', description='Выражение: ', layout=Layout(width='auto', height='auto'))\n",
    "degree_slider = IntSlider(1, 1, 100, 1, description=\"Степень: \", layout=Layout(width='auto', height='auto'))\n",
    "left_limit = FloatText(-1, description='Начало:', layout=Layout(width='auto', height='auto'))\n",
    "right_limit = FloatText(value=1, description='Конец:', layout=Layout(width='auto', height='auto'))"
   ]
  },
  {
   "cell_type": "code",
   "execution_count": 3,
   "metadata": {},
   "outputs": [
    {
     "data": {
      "application/vnd.jupyter.widget-view+json": {
       "model_id": "817a68cb664f4f2eb02d40b8012c872c",
       "version_major": 2,
       "version_minor": 0
      },
      "text/plain": [
       "TwoByTwoLayout(children=(Text(value='cos(x)', description='Выражение: ', layout=Layout(grid_area='top-left', h…"
      ]
     },
     "metadata": {},
     "output_type": "display_data"
    }
   ],
   "source": [
    "TwoByTwoLayout(top_left=expression_text,\n",
    "               top_right=degree_slider,\n",
    "               bottom_left=left_limit,\n",
    "               bottom_right=right_limit)"
   ]
  },
  {
   "cell_type": "code",
   "execution_count": 4,
   "metadata": {},
   "outputs": [
    {
     "data": {
      "application/vnd.jupyter.widget-view+json": {
       "model_id": "d14aa1d5808e468eb5afbdff960d9ee0",
       "version_major": 2,
       "version_minor": 0
      },
      "text/plain": [
       "Output()"
      ]
     },
     "metadata": {},
     "output_type": "display_data"
    }
   ],
   "source": [
    "o = Output()\n",
    "o"
   ]
  },
  {
   "cell_type": "code",
   "execution_count": 5,
   "metadata": {},
   "outputs": [],
   "source": [
    "def recalculate(_=None):\n",
    "    o.clear_output()\n",
    "    with o:\n",
    "        try:\n",
    "            x = np.linspace(left_limit.value, right_limit.value, int((np.abs(left_limit.value - right_limit.value) + 1) * 50))\n",
    "            y = [evaluate(expression_text.value, {'x': _x}) for _x in x]\n",
    "            yp = solve(x, y, degree_slider.value)\n",
    "            plt.plot(x, y)\n",
    "            plt.plot(x, yp)\n",
    "            plt.show()\n",
    "        except AttributeError:\n",
    "            print('Не удалось распознать выражение')\n",
    "recalculate()"
   ]
  },
  {
   "cell_type": "code",
   "execution_count": 6,
   "metadata": {},
   "outputs": [],
   "source": [
    "expression_text.observe(recalculate, names='value')\n",
    "degree_slider.observe(recalculate, names='value')\n",
    "left_limit.observe(recalculate, names='value')\n",
    "right_limit.observe(recalculate, names='value')"
   ]
  }
 ],
 "metadata": {
  "interpreter": {
   "hash": "95ec9ec1504d83f612128e0fb229072f90bbb4cb09d9d5d93b5dd26e0ca2cfd1"
  },
  "kernelspec": {
   "display_name": "Python 3",
   "language": "python",
   "name": "python3"
  },
  "language_info": {
   "codemirror_mode": {
    "name": "ipython",
    "version": 3
   },
   "file_extension": ".py",
   "mimetype": "text/x-python",
   "name": "python",
   "nbconvert_exporter": "python",
   "pygments_lexer": "ipython3",
   "version": "3.9.2"
  }
 },
 "nbformat": 4,
 "nbformat_minor": 4
}
