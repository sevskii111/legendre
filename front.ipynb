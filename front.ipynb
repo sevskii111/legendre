{
 "cells": [
  {
   "cell_type": "code",
   "execution_count": 1,
   "source": [
    "import warnings\n",
    "import numpy as np\n",
    "import matplotlib.pyplot as plt\n",
    "from eval import evaluate\n",
    "from solver import smart_solve\n",
    "from ipywidgets import Text, IntSlider, TwoByTwoLayout, Layout, Output"
   ],
   "outputs": [],
   "metadata": {}
  },
  {
   "cell_type": "code",
   "execution_count": 2,
   "source": [
    "expression_text = Text('cos(x)', description='Выражение: ', layout=Layout(width='auto', height='auto'))\n",
    "degree_slider = IntSlider(2, 1, 30, 1, description=\"Степень: \", layout=Layout(width='auto', height='auto'))"
   ],
   "outputs": [],
   "metadata": {}
  },
  {
   "cell_type": "code",
   "execution_count": 3,
   "source": [
    "TwoByTwoLayout(top_left=expression_text,\n",
    "               top_right=degree_slider,\n",
    "               bottom_left=None,\n",
    "               bottom_right=None)"
   ],
   "outputs": [
    {
     "output_type": "display_data",
     "data": {
      "application/vnd.jupyter.widget-view+json": {
       "version_major": 2,
       "version_minor": 0,
       "model_id": "02c3502a285148268c450cb439b999b8"
      },
      "text/plain": [
       "TwoByTwoLayout(children=(Text(value='cos(x)', description='Выражение: ', layout=Layout(grid_area='top-left', h…"
      ]
     },
     "metadata": {}
    }
   ],
   "metadata": {}
  },
  {
   "cell_type": "code",
   "execution_count": 4,
   "source": [
    "o = Output()\n",
    "o"
   ],
   "outputs": [
    {
     "output_type": "display_data",
     "data": {
      "application/vnd.jupyter.widget-view+json": {
       "version_major": 2,
       "version_minor": 0,
       "model_id": "a76b74c8233d4fbe89a813e46aad962e"
      },
      "text/plain": [
       "Output()"
      ]
     },
     "metadata": {}
    }
   ],
   "metadata": {}
  },
  {
   "cell_type": "code",
   "execution_count": 5,
   "source": [
    "def recalculate(_=None):\n",
    "    left_limit = -1 + np.finfo(float).eps\n",
    "    right_limit = 1 - np.finfo(float).eps\n",
    "    o.clear_output()\n",
    "    with warnings.catch_warnings():\n",
    "        warnings.simplefilter(\"ignore\")\n",
    "        with o:\n",
    "            try:\n",
    "                N = 1000\n",
    "                x = np.linspace(left_limit, right_limit, N)\n",
    "                y = [evaluate(expression_text.value, {'x': _x}) for _x in x]\n",
    "                get_y = lambda x: evaluate(expression_text.value, {'x': x})\n",
    "                #yp, cs = solve(x, y, degree_slider.value)\n",
    "                yp_smart, cs_smart = smart_solve((left_limit, right_limit), get_y, degree_slider.value, N)\n",
    "                #print('cs:\\t\\t', ', '.join([f'{c:.2f}' for c in cs]))\n",
    "                print('c = {', ', '.join([f'{c:.2f}' for c in cs_smart]) + '}')\n",
    "                plt.plot(x, y)\n",
    "                #plt.plot(x, yp)\n",
    "                plt.plot(x, yp_smart)\n",
    "                plt.show()\n",
    "            except AttributeError as e:\n",
    "                print('Не удалось распознать выражение')\n",
    "recalculate()"
   ],
   "outputs": [],
   "metadata": {}
  },
  {
   "cell_type": "code",
   "execution_count": 6,
   "source": [
    "expression_text.observe(recalculate, names='value')\n",
    "degree_slider.observe(recalculate, names='value')"
   ],
   "outputs": [],
   "metadata": {}
  }
 ],
 "metadata": {
  "interpreter": {
   "hash": "95ec9ec1504d83f612128e0fb229072f90bbb4cb09d9d5d93b5dd26e0ca2cfd1"
  },
  "kernelspec": {
   "name": "python3",
   "display_name": "Python 3.9.2 64-bit ('base': conda)"
  },
  "language_info": {
   "codemirror_mode": {
    "name": "ipython",
    "version": 3
   },
   "file_extension": ".py",
   "mimetype": "text/x-python",
   "name": "python",
   "nbconvert_exporter": "python",
   "pygments_lexer": "ipython3",
   "version": "3.9.2"
  }
 },
 "nbformat": 4,
 "nbformat_minor": 4
}