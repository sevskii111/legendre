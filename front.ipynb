{
 "cells": [
  {
   "cell_type": "code",
   "execution_count": 1,
   "metadata": {},
   "outputs": [],
   "source": [
    "import warnings\n",
    "import numpy as np\n",
    "import matplotlib.pyplot as plt\n",
    "from eval import evaluate\n",
    "from solver import smart_solve\n",
    "from ipywidgets import Text, IntSlider, TwoByTwoLayout, Layout, Output\n"
   ]
  },
  {
   "cell_type": "code",
   "execution_count": 2,
   "metadata": {},
   "outputs": [],
   "source": [
    "expression_text = Text('cos(x)', description='Выражение: ', layout=Layout(width='auto', height='auto'))\n",
    "degree_slider = IntSlider(2, 1, 30, 1, description=\"Степень: \", layout=Layout(width='auto', height='auto'))"
   ]
  },
  {
   "cell_type": "code",
   "execution_count": 3,
   "metadata": {},
   "outputs": [
    {
     "data": {
      "application/vnd.jupyter.widget-view+json": {
       "model_id": "9ed6d16a3e2043608a039d8063f17cdc",
       "version_major": 2,
       "version_minor": 0
      },
      "text/plain": [
       "TwoByTwoLayout(children=(Text(value='cos(x)', description='Выражение: ', layout=Layout(grid_area='top-left', h…"
      ]
     },
     "metadata": {},
     "output_type": "display_data"
    }
   ],
   "source": [
    "TwoByTwoLayout(top_left=expression_text,\n",
    "               top_right=degree_slider,\n",
    "               bottom_left=None,\n",
    "               bottom_right=None)"
   ]
  },
  {
   "cell_type": "code",
   "execution_count": 4,
   "metadata": {},
   "outputs": [
    {
     "data": {
      "application/vnd.jupyter.widget-view+json": {
       "model_id": "288aae7f7e3f440d89e72a7a4157958c",
       "version_major": 2,
       "version_minor": 0
      },
      "text/plain": [
       "Output()"
      ]
     },
     "metadata": {},
     "output_type": "display_data"
    }
   ],
   "source": [
    "o = Output()\n",
    "o"
   ]
  },
  {
   "cell_type": "code",
   "execution_count": 5,
   "metadata": {},
   "outputs": [],
   "source": [
    "def recalculate(_=None):\n",
    "    left_limit = -1 + np.finfo(float).eps\n",
    "    right_limit = 1 - np.finfo(float).eps\n",
    "    o.clear_output()\n",
    "    with warnings.catch_warnings():\n",
    "        warnings.simplefilter(\"ignore\")\n",
    "        with o:\n",
    "            try:\n",
    "                N = 1000\n",
    "                x = np.linspace(left_limit, right_limit, N)\n",
    "                y = [evaluate(expression_text.value, {'x': _x}) for _x in x]\n",
    "                get_y = lambda x: evaluate(expression_text.value, {'x': x})\n",
    "                #yp, cs = solve(x, y, degree_slider.value)\n",
    "                yp_smart, cs_smart = smart_solve((left_limit, right_limit), get_y, degree_slider.value, N)\n",
    "                #print('cs:\\t\\t', ', '.join([f'{c:.2f}' for c in cs]))\n",
    "                print('c = {', ', '.join([f'{c:.2f}' for c in cs_smart]) + '}')\n",
    "                plt.plot(x, y)\n",
    "                #plt.plot(x, yp)\n",
    "                plt.plot(x, yp_smart)\n",
    "                plt.show()\n",
    "            except AttributeError as e:\n",
    "                print('Не удалось распознать выражение')\n",
    "recalculate()"
   ]
  },
  {
   "cell_type": "code",
   "execution_count": 6,
   "metadata": {},
   "outputs": [],
   "source": [
    "expression_text.observe(recalculate, names='value')\n",
    "degree_slider.observe(recalculate, names='value')"
   ]
  }
 ],
 "metadata": {
  "interpreter": {
   "hash": "c6e4e9f98eb68ad3b7c296f83d20e6de614cb42e90992a65aa266555a3137d0d"
  },
  "kernelspec": {
   "display_name": "Python 3",
   "language": "python",
   "name": "python3"
  },
  "language_info": {
   "codemirror_mode": {
    "name": "ipython",
    "version": 3
   },
   "file_extension": ".py",
   "mimetype": "text/x-python",
   "name": "python",
   "nbconvert_exporter": "python",
   "pygments_lexer": "ipython3",
   "version": "3.9.2"
  }
 },
 "nbformat": 4,
 "nbformat_minor": 4
}
